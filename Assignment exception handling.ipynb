{
 "cells": [
  {
   "cell_type": "code",
   "execution_count": null,
   "metadata": {},
   "outputs": [],
   "source": [
    "1. Write a function to compute 5/0 and use try/except to catch the exceptions.\n"
   ]
  },
  {
   "cell_type": "code",
   "execution_count": 4,
   "metadata": {},
   "outputs": [
    {
     "name": "stdout",
     "output_type": "stream",
     "text": [
      "Exception is :  division by zero\n"
     ]
    }
   ],
   "source": [
    "def computedbz():\n",
    "    try:\n",
    "        val = 5/0\n",
    "    except Exception as exp:\n",
    "        print(\"Exception is : \" , exp)\n",
    "\n",
    "computedbz()"
   ]
  },
  {
   "cell_type": "code",
   "execution_count": null,
   "metadata": {},
   "outputs": [],
   "source": [
    "2. Implement a Python program to generate all sentences \n",
    "   where subject is in [\"Americans\", \"Indians\"] and verb is in [\"Play\", \"watch\"] and \n",
    "    the object is in [\"Baseball\",\"cricket\"].\n",
    "    \n",
    "Hint: Subject,Verb and Object should be declared in the program as shown below.\n",
    "    \n"
   ]
  },
  {
   "cell_type": "code",
   "execution_count": 29,
   "metadata": {},
   "outputs": [
    {
     "name": "stdout",
     "output_type": "stream",
     "text": [
      "['Americans  play Baseball.', 'Americans  play Cricket.', 'Americans  watch Baseball.', 'Americans  watch Cricket.', 'Indians play Baseball.', 'Indians play Cricket.', 'Indians watch Baseball.', 'Indians watch Cricket.']\n"
     ]
    }
   ],
   "source": [
    "def genallsen():\n",
    "    try:\n",
    "        subjects=[\"Americans \",\"Indians\"]\n",
    "        verbs=[\"play\",\"watch\"]\n",
    "        objects=[\"Baseball\",\"Cricket\"]\n",
    "\n",
    "        print([str(s) + \" \" + str(v) + \" \" + str(o) + \".\" for s in subjects for v in verbs for o in objects ])\n",
    "    except Exception as exp:\n",
    "        print(\"The error is : \" , exp)\n",
    "        \n",
    "genallsen()"
   ]
  },
  {
   "cell_type": "code",
   "execution_count": null,
   "metadata": {},
   "outputs": [],
   "source": []
  },
  {
   "cell_type": "code",
   "execution_count": null,
   "metadata": {},
   "outputs": [],
   "source": []
  }
 ],
 "metadata": {
  "kernelspec": {
   "display_name": "Python 3",
   "language": "python",
   "name": "python3"
  },
  "language_info": {
   "codemirror_mode": {
    "name": "ipython",
    "version": 3
   },
   "file_extension": ".py",
   "mimetype": "text/x-python",
   "name": "python",
   "nbconvert_exporter": "python",
   "pygments_lexer": "ipython3",
   "version": "3.7.6"
  }
 },
 "nbformat": 4,
 "nbformat_minor": 4
}
